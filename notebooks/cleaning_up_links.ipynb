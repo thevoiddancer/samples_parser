{
 "cells": [
  {
   "cell_type": "code",
   "execution_count": 51,
   "metadata": {},
   "outputs": [],
   "source": [
    "import pandas as pd\n",
    "import json\n",
    "import re\n",
    "from urllib.parse import unquote\n",
    "import discogs_client as DiscogsClient\n",
    "DISCOGS_USER_TOKEN='TFVOBtHcTkDzNyzLtYgqdJteXoXSlKyCjVtnjDNW'\n",
    "SPOTIFY_CLIENT_ID='6f4d5e1238de4803bca434bb32da9ad5'\n",
    "SPOTIFY_CLIENT_SECRET='37c32729befa4188b715d6c30135c9e4'\n",
    "YTMUSIC_ACCESS_TOKEN='ya29.a0AfB_byB9CWG5iwkYBMZeaHiGHguWqsXF2vy3aYdugq1dPKsFT05fWp54cp97fuKATy_fQbe7qoPIxSSMsKxVAM8fbWzdteGNY-8m_J7gMC_df-H6YSYVCiMktQbpQv-7qH53f0zfxdZzm4g8vMElIJ9h5ly4t0MegtuUtKxl1znLkCEqaCgYKAdYSARISFQHGX2Mi-A93ch6xphVdmKGeueBcLw0183'\n",
    "YTMUSIC_REFRESH_TOKEN='1//09nhOL0gpiD83CgYIARAAGAkSNwF-L9IrfVltzz8nXey8j3x_ZWo6aNcHXa4oQ5S3XAMX28F7qJaCdHo4lV6apuR8pDSf6CCEcpE'\n",
    "\n",
    "discogs_client = DiscogsClient.Client('ExampleApplication/0.1', user_token=DISCOGS_USER_TOKEN)"
   ]
  },
  {
   "cell_type": "code",
   "execution_count": 60,
   "metadata": {},
   "outputs": [
    {
     "data": {
      "text/plain": [
       "<Artist 10670 'Covenant'>"
      ]
     },
     "execution_count": 60,
     "metadata": {},
     "output_type": "execute_result"
    }
   ],
   "source": [
    "def df_to_nested_dict(df):\n",
    "    dict_result = (\n",
    "        df.groupby('band')\n",
    "        .apply(lambda x: x.groupby('album')['song'].apply(list).to_dict())\n",
    "        .to_dict()\n",
    "    )\n",
    "    return dict_result\n",
    "\n",
    "def find_band_exact(band_name):\n",
    "    \"\"\"Returns the artist object for searches that have only one exact match, ignoring case. If multiple results are returned, returns None\"\"\"\n",
    "    band_results = discogs_client.search(band_name, type='artist')\n",
    "    band_names = [result.name.lower() for result in band_results]\n",
    "    band_name = band_name.lower()\n",
    "    pattern = re.compile(fr'{band_name} \\(\\d\\)')\n",
    "    has_multiple = sum(map(lambda x: 1 if re.findall(pattern, x) else 0, band_names)) > 1\n",
    "\n",
    "    if band_names.count(band_name) == 1 and not has_multiple:\n",
    "        return band_results[band_names.index(band_name)]\n",
    "    return None\n",
    "\n",
    "def find_band_by_albums(band_name, albums):\n",
    "    \"\"\"Returns the artist object for searches with multiple results, by checking the album list. Returns the artist if any albums match the given list, otherwise None\"\"\"\n",
    "    band_results = discogs_client.search(band_name, type='artist')\n",
    "    albums = [album.lower() for album in albums]\n",
    "\n",
    "    for band in band_results:\n",
    "        releases = [release.title.lower() for release in band.releases]\n",
    "        if any(set(releases).intersection(set(albums))):\n",
    "            return band\n",
    "    return None\n",
    "\n"
   ]
  },
  {
   "cell_type": "code",
   "execution_count": 103,
   "metadata": {},
   "outputs": [],
   "source": [
    "df_raw = pd.read_pickle('with_discogs_ids.pkl')\n",
    "df_multiple = df_raw.loc[df_raw['discogs_id'] == 'None']\n",
    "data_dict = df_to_nested_dict(df_multiple)\n",
    "\n",
    "# for band, albums in data_dict.items():\n",
    "#     albums = list(albums.keys())\n",
    "#     found_band = find_band_by_albums(band, albums)\n",
    "#     print(found_band, band, albums)\n",
    "\n"
   ]
  },
  {
   "cell_type": "code",
   "execution_count": 97,
   "metadata": {},
   "outputs": [
    {
     "data": {
      "text/plain": [
       "100"
      ]
     },
     "execution_count": 97,
     "metadata": {},
     "output_type": "execute_result"
    }
   ],
   "source": [
    "from thefuzz import fuzz\n",
    "fuzz.token_set_ratio('Unreal/Real', 'Unreal / Real')\n"
   ]
  },
  {
   "cell_type": "code",
   "execution_count": null,
   "metadata": {},
   "outputs": [],
   "source": [
    "band = 'Grendel'\n",
    "albums = list(data_dict[band].keys())\n",
    "found_band = find_band_by_albums(band, albums)\n",
    "[release.title for release in found_band.releases]"
   ]
  },
  {
   "cell_type": "code",
   "execution_count": 116,
   "metadata": {},
   "outputs": [
    {
     "name": "stdout",
     "output_type": "stream",
     "text": [
      "[('Prescription : Medicide', 98)]\n",
      "[]\n"
     ]
    }
   ],
   "source": [
    "albums_discogs = ['Inhumane Amusement',\n",
    " 'End Of Ages',\n",
    " 'Prescription : Medicide',\n",
    " 'Soilbleed',\n",
    " 'Harsh Generation',\n",
    " 'Chemicals + Circuitry',\n",
    " 'Timewave Zero',\n",
    " 'Age Of The Disposable Body',\n",
    " 'Brace The Storm',\n",
    " 'Ascending The Abyss']\n",
    "albums_db = ['Prescription: Medicide', 'V/A - Storsequenz - Compilation CD']\n",
    "\n",
    "set(albums_discogs).intersection(set(albums_db))\n",
    "\n",
    "from thefuzz import process\n",
    "for album in albums_db:\n",
    "    candidates = [pair for pair in process.extract(album, albums_discogs, limit=100) if pair[1] > 50]\n",
    "    print(candidates)\n"
   ]
  },
  {
   "cell_type": "code",
   "execution_count": 119,
   "metadata": {},
   "outputs": [
    {
     "name": "stdout",
     "output_type": "stream",
     "text": [
      "Grendel\n",
      "Prescription: Medicide\n",
      "['Kurtz', 'Construct Constriction', 'Dream']\n",
      "V/A - Storsequenz - Compilation CD\n",
      "[]\n"
     ]
    }
   ],
   "source": [
    "data = {'Grendel': {'Prescription: Medicide': ['Kurtz', 'Construct Constriction', 'Dream'], 'V/A - Storsequenz - Compilation CD': []}}\n",
    "for band, albums_dict in data.items():\n",
    "    dg_band_results = discogs_client.search(band, type='artist')\n",
    "    for dg_band in dg_band_results:\n",
    "        print(band)\n",
    "        for album, tracks in albums_dict.items():\n",
    "            print(album)\n",
    "            print(tracks)"
   ]
  },
  {
   "cell_type": "code",
   "execution_count": 117,
   "metadata": {},
   "outputs": [
    {
     "data": {
      "text/plain": [
       "['Kurtz', 'Construct Constriction', 'Dream']"
      ]
     },
     "execution_count": 117,
     "metadata": {},
     "output_type": "execute_result"
    }
   ],
   "source": [
    "data_dict['Grendel']['Prescription: Medicide']"
   ]
  },
  {
   "cell_type": "code",
   "execution_count": 114,
   "metadata": {},
   "outputs": [
    {
     "data": {
      "text/plain": [
       "[(<Artist 268201 'Battery (3)'>, 90),\n",
       " (<Artist 74425 'Battery'>, 90),\n",
       " (<Artist 4544702 'Battery (9)'>, 90),\n",
       " (<Artist 319391 'Love Battery'>, 90),\n",
       " (<Artist 39241 'DJ Battery Brain'>, 90),\n",
       " (<Artist 75346 'Id Battery'>, 90),\n",
       " (<Artist 174020 'Battery Cage'>, 90),\n",
       " (<Artist 613708 'Piero Battery'>, 90),\n",
       " (<Artist 1987109 'Battery (5)'>, 90),\n",
       " (<Artist 1935152 'Battery Crémil'>, 90),\n",
       " (<Artist 113714 'Battery Park'>, 90),\n",
       " (<Artist 3137143 'Battery (7)'>, 90),\n",
       " (<Artist 2303642 'Battery 03'>, 90),\n",
       " (<Artist 1522684 'Battery Boys'>, 90),\n",
       " (<Artist 75111 'Battery Operated'>, 90),\n",
       " (<Artist 4649176 'Simon Battery'>, 90),\n",
       " (<Artist 1852049 'Dead Battery Productions'>, 90),\n",
       " (<Artist 59739 'Assult N Battery'>, 90),\n",
       " (<Artist 3290627 'Battery (8)'>, 90),\n",
       " (<Artist 3790771 'Assault & Battery (3)'>, 90),\n",
       " (<Artist 127276 'Battery (2)'>, 90),\n",
       " (<Artist 1544674 'Christophe Battery'>, 90),\n",
       " (<Artist 281771 'Battery 9'>, 90),\n",
       " (<Artist 2475577 'Assault & Battery (2)'>, 90),\n",
       " (<Artist 427040 '666 Volt Battery Noise'>, 90),\n",
       " (<Artist 1432282 'Philippe Battery'>, 90),\n",
       " (<Artist 2051561 'Battery Farley'>, 90),\n",
       " (<Artist 5855251 'Battery (12)'>, 90),\n",
       " (<Artist 2668377 'Dead Battery'>, 90),\n",
       " (<Artist 1461220 'The Battery Studio Soldiers'>, 90),\n",
       " (<Artist 451418 'Battery Suspects'>, 90),\n",
       " (<Artist 375036 'Battery Sound'>, 90),\n",
       " (<Artist 3552087 'Battery Operated Orchestra'>, 90),\n",
       " (<Artist 2567646 'Thierry Battery'>, 90),\n",
       " (<Artist 5424733 'Sam Battery'>, 90),\n",
       " (<Artist 3034555 'John Brown Battery'>, 90),\n",
       " (<Artist 2225878 'The Battery (2)'>, 90),\n",
       " (<Artist 388606 'Assault & Battery'>, 90),\n",
       " (<Artist 4934436 'Marie Line Battery'>, 90),\n",
       " (<Artist 113958 'Battery Cheese Girl'>, 90),\n",
       " (<Artist 1641030 'Battery Leak'>, 90),\n",
       " (<Artist 3479651 'Pierre Battery'>, 90),\n",
       " (<Artist 1622514 'Battery Jackson'>, 90),\n",
       " (<Artist 899388 'Battery Acid'>, 90),\n",
       " (<Artist 1429057 'Battery Bride'>, 90),\n",
       " (<Artist 1935921 'Daniel Battery'>, 90),\n",
       " (<Artist 12719477 'Battery March'>, 90),\n",
       " (<Artist 1311619 'Christian Battery'>, 90),\n",
       " (<Artist 4891700 'Battery!'>, 90),\n",
       " (<Artist 1583155 'Battery Acid Facial'>, 90),\n",
       " (<Artist 72045 'Battery Inc.'>, 90),\n",
       " (<Artist 6099310 'Battery Point (2)'>, 90),\n",
       " (<Artist 7603300 'Battery (16)'>, 90),\n",
       " (<Artist 6389599 'Battery Humans (2)'>, 90),\n",
       " (<Artist 361296 'Chokchai 3-K Battery'>, 90),\n",
       " (<Artist 1916104 'Check Battery Daily'>, 90),\n",
       " (<Artist 1727684 'BatteryDead'>, 90),\n",
       " (<Artist 1100915 'Low Battery'>, 90),\n",
       " (<Artist 3144046 'Battery Humans'>, 90),\n",
       " (<Artist 1191755 'Peter Battery'>, 90),\n",
       " (<Artist 1183792 'Battery Collection'>, 90),\n",
       " (<Artist 3836630 'Pierro Battery Et Le Gospel Act'>, 90),\n",
       " (<Artist 9911401 'Low Battery (4)'>, 90),\n",
       " (<Artist 11693153 'Seawind Of Battery'>, 90),\n",
       " (<Artist 2589915 'The Battery Choir'>, 90),\n",
       " (<Artist 3725909 \"Battery Studio's Group\">, 90),\n",
       " (<Artist 5605817 'The Battery Electric'>, 90),\n",
       " (<Artist 8035603 'Battery (19)'>, 90),\n",
       " (<Artist 1340824 'Battery (4)'>, 90),\n",
       " (<Artist 4108261 'Madison Battery'>, 90),\n",
       " (<Artist 1378351 'The Battery'>, 90),\n",
       " (<Artist 1785145 'Battery Low'>, 90),\n",
       " (<Artist 804080 'Battery Empty'>, 90),\n",
       " (<Artist 2102340 'Sultan Battery'>, 90),\n",
       " (<Artist 13691182 '11 (Sphinx) Air Defence Battery'>, 90),\n",
       " (<Artist 2026028 'Battery Brain'>, 90),\n",
       " (<Artist 1749003 'Sara Battery'>, 90),\n",
       " (<Artist 4008824 'Battery Face'>, 90),\n",
       " (<Artist 4633009 'The Battery (3)'>, 90),\n",
       " (<Artist 5484772 'Pine + Battery'>, 90),\n",
       " (<Artist 2557668 'Fat Battery'>, 90),\n",
       " (<Artist 4057231 'The Battery Boss'>, 90),\n",
       " (<Artist 920606 'Battery Farm'>, 90),\n",
       " (<Artist 2359191 'Kevin Kerby + Battery'>, 90),\n",
       " (<Artist 3692924 'Battery Elathan'>, 90),\n",
       " (<Artist 6223024 'AAA Battery'>, 90),\n",
       " (<Artist 4958108 'Luv Battery'>, 90),\n",
       " (<Artist 12003385 'Battery Boy'>, 90),\n",
       " (<Artist 6093597 'Battery Apple'>, 90),\n",
       " (<Artist 1138586 'The Spirit Battery'>, 90),\n",
       " (<Artist 7050786 'Battery Club'>, 90),\n",
       " (<Artist 7005954 'Battery Stanley'>, 90),\n",
       " (<Artist 1093930 'A Salt ~ Battery'>, 90),\n",
       " (<Artist 7183588 'Battery (14)'>, 90),\n",
       " (<Artist 1065307 'Battery Studios'>, 90),\n",
       " (<Artist 1193991 'Battery 5'>, 90),\n",
       " (<Artist 3276191 'Battery Life'>, 90),\n",
       " (<Artist 4797245 'Battery Honey'>, 90),\n",
       " (<Artist 6698041 'Battery Acid University'>, 90),\n",
       " (<Artist 4718758 'Battery (11)'>, 90)]"
      ]
     },
     "execution_count": 114,
     "metadata": {},
     "output_type": "execute_result"
    }
   ],
   "source": [
    "band = 'Battery'\n",
    "band_results = discogs_client.search(band, type='artist')\n",
    "band_names = [band.name for band in band_results]\n",
    "process.extract(band, band_results, limit=100)"
   ]
  },
  {
   "cell_type": "code",
   "execution_count": 31,
   "metadata": {},
   "outputs": [],
   "source": [
    "json_result = json.dumps(df_to_nested_dict(df_bands))\n",
    "\n",
    "# with open('band_album_song_data.json', 'w') as file:\n",
    "#     file.write(json_result)\n",
    "\n",
    "with open('band_album_song_data.json', 'r') as file:\n",
    "    json_data = json.load(file)"
   ]
  },
  {
   "cell_type": "code",
   "execution_count": 35,
   "metadata": {},
   "outputs": [],
   "source": [
    "# Maps the artist to artist ID\n",
    "\n",
    "# df_bands['discogs_id'] = ''\n",
    "\n",
    "# i = 0\n",
    "# for band in df_bands['band'].drop_duplicates():\n",
    "#     try:\n",
    "#         band_obj = find_band(band)\n",
    "#     except Exception:\n",
    "#         continue\n",
    "#     band_id = band_obj.id if band_obj else None\n",
    "#     df_bands.loc[df_bands['band'] == band, 'discogs_id'] = str(band_id)\n",
    "#     print(i, band, band_obj, band_id)\n",
    "#     i+=1\n",
    "\n",
    "# display(df_bands)\n"
   ]
  }
 ],
 "metadata": {
  "kernelspec": {
   "display_name": "samples",
   "language": "python",
   "name": "python3"
  },
  "language_info": {
   "codemirror_mode": {
    "name": "ipython",
    "version": 3
   },
   "file_extension": ".py",
   "mimetype": "text/x-python",
   "name": "python",
   "nbconvert_exporter": "python",
   "pygments_lexer": "ipython3",
   "version": "3.11.7"
  }
 },
 "nbformat": 4,
 "nbformat_minor": 2
}
